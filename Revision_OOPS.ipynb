{
  "nbformat": 4,
  "nbformat_minor": 0,
  "metadata": {
    "colab": {
      "provenance": [],
      "authorship_tag": "ABX9TyO88/ZdNPCSjOj6C96zynPE"
    },
    "kernelspec": {
      "name": "python3",
      "display_name": "Python 3"
    },
    "language_info": {
      "name": "python"
    }
  },
  "cells": [
    {
      "cell_type": "code",
      "execution_count": 1,
      "metadata": {
        "colab": {
          "base_uri": "https://localhost:8080/",
          "height": 201
        },
        "id": "DdTbcFj5cBY3",
        "outputId": "bbaf7f15-042e-4987-eb1d-a6369a48c50f"
      },
      "outputs": [
        {
          "output_type": "error",
          "ename": "AttributeError",
          "evalue": "ignored",
          "traceback": [
            "\u001b[0;31m---------------------------------------------------------------------------\u001b[0m",
            "\u001b[0;31mAttributeError\u001b[0m                            Traceback (most recent call last)",
            "\u001b[0;32m<ipython-input-1-a7dd7239ebbd>\u001b[0m in \u001b[0;36m<module>\u001b[0;34m\u001b[0m\n\u001b[1;32m      2\u001b[0m \u001b[0;34m\u001b[0m\u001b[0m\n\u001b[1;32m      3\u001b[0m \u001b[0mL\u001b[0m\u001b[0;34m=\u001b[0m\u001b[0;34m[\u001b[0m\u001b[0;36m1\u001b[0m\u001b[0;34m,\u001b[0m\u001b[0;36m2\u001b[0m\u001b[0;34m,\u001b[0m\u001b[0;36m3\u001b[0m\u001b[0;34m]\u001b[0m\u001b[0;34m\u001b[0m\u001b[0;34m\u001b[0m\u001b[0m\n\u001b[0;32m----> 4\u001b[0;31m \u001b[0mL\u001b[0m\u001b[0;34m.\u001b[0m\u001b[0mupper\u001b[0m\u001b[0;34m(\u001b[0m\u001b[0;34m)\u001b[0m\u001b[0;34m\u001b[0m\u001b[0;34m\u001b[0m\u001b[0m\n\u001b[0m",
            "\u001b[0;31mAttributeError\u001b[0m: 'list' object has no attribute 'upper'"
          ]
        }
      ],
      "source": [
        "#OOPs- Object Oriented Programming\n",
        "\n",
        "L=[1,2,3]\n",
        "L.upper()"
      ]
    },
    {
      "cell_type": "code",
      "source": [
        "s=\"hello\"\n",
        "s.append('x')"
      ],
      "metadata": {
        "colab": {
          "base_uri": "https://localhost:8080/",
          "height": 183
        },
        "id": "708Ay87Je47c",
        "outputId": "dfe9f812-c8e4-4d32-c9d8-32e15ba765fa"
      },
      "execution_count": 2,
      "outputs": [
        {
          "output_type": "error",
          "ename": "AttributeError",
          "evalue": "ignored",
          "traceback": [
            "\u001b[0;31m---------------------------------------------------------------------------\u001b[0m",
            "\u001b[0;31mAttributeError\u001b[0m                            Traceback (most recent call last)",
            "\u001b[0;32m<ipython-input-2-a8ef30c4e90a>\u001b[0m in \u001b[0;36m<module>\u001b[0;34m\u001b[0m\n\u001b[1;32m      1\u001b[0m \u001b[0ms\u001b[0m\u001b[0;34m=\u001b[0m\u001b[0;34m\"hello\"\u001b[0m\u001b[0;34m\u001b[0m\u001b[0;34m\u001b[0m\u001b[0m\n\u001b[0;32m----> 2\u001b[0;31m \u001b[0ms\u001b[0m\u001b[0;34m.\u001b[0m\u001b[0mappend\u001b[0m\u001b[0;34m(\u001b[0m\u001b[0;34m'x'\u001b[0m\u001b[0;34m)\u001b[0m\u001b[0;34m\u001b[0m\u001b[0;34m\u001b[0m\u001b[0m\n\u001b[0m",
            "\u001b[0;31mAttributeError\u001b[0m: 'str' object has no attribute 'append'"
          ]
        }
      ]
    },
    {
      "cell_type": "code",
      "source": [
        "print(type(s))"
      ],
      "metadata": {
        "colab": {
          "base_uri": "https://localhost:8080/"
        },
        "id": "FB7oHSc6fGOl",
        "outputId": "a800d20d-a75d-4cb9-8ac5-03df0d1ac75d"
      },
      "execution_count": 5,
      "outputs": [
        {
          "output_type": "stream",
          "name": "stdout",
          "text": [
            "<class 'str'>\n"
          ]
        }
      ]
    },
    {
      "cell_type": "code",
      "source": [
        "print(type(L))"
      ],
      "metadata": {
        "colab": {
          "base_uri": "https://localhost:8080/"
        },
        "id": "GoloIPLGfOba",
        "outputId": "440a0c9a-83bf-4b16-92b4-4694b5c96ff8"
      },
      "execution_count": 4,
      "outputs": [
        {
          "output_type": "stream",
          "name": "stdout",
          "text": [
            "<class 'list'>\n"
          ]
        }
      ]
    },
    {
      "cell_type": "code",
      "source": [
        "#objectname= Classname()\n",
        "\n",
        "L=list()"
      ],
      "metadata": {
        "id": "8M3_zpmUfUqk"
      },
      "execution_count": 6,
      "outputs": []
    },
    {
      "cell_type": "code",
      "source": [
        "type(L)"
      ],
      "metadata": {
        "colab": {
          "base_uri": "https://localhost:8080/"
        },
        "id": "CvfMdcMVfhtg",
        "outputId": "bd93b2e6-8601-47cc-afd5-1dccb995a018"
      },
      "execution_count": 7,
      "outputs": [
        {
          "output_type": "execute_result",
          "data": {
            "text/plain": [
              "list"
            ]
          },
          "metadata": {},
          "execution_count": 7
        }
      ]
    },
    {
      "cell_type": "code",
      "source": [
        "s=str()"
      ],
      "metadata": {
        "id": "ZDR79pSIfkXF"
      },
      "execution_count": 8,
      "outputs": []
    },
    {
      "cell_type": "code",
      "source": [
        "print(type(s))"
      ],
      "metadata": {
        "colab": {
          "base_uri": "https://localhost:8080/"
        },
        "id": "10-yGcLVfoB5",
        "outputId": "8733e211-2e5d-41bb-f2ea-ce2d85d510d3"
      },
      "execution_count": 9,
      "outputs": [
        {
          "output_type": "stream",
          "name": "stdout",
          "text": [
            "<class 'str'>\n"
          ]
        }
      ]
    },
    {
      "cell_type": "code",
      "source": [
        "class Car:\n",
        "   pass"
      ],
      "metadata": {
        "id": "wX3DAI4tfqdh"
      },
      "execution_count": 10,
      "outputs": []
    },
    {
      "cell_type": "code",
      "source": [
        "a=Car()"
      ],
      "metadata": {
        "id": "nO-CnvyUf-vL"
      },
      "execution_count": 11,
      "outputs": []
    },
    {
      "cell_type": "code",
      "source": [
        "print(type(a))"
      ],
      "metadata": {
        "colab": {
          "base_uri": "https://localhost:8080/"
        },
        "id": "DbkH8pGKgCQL",
        "outputId": "75049be8-d378-45d3-dc53-98cebb5cc04e"
      },
      "execution_count": 12,
      "outputs": [
        {
          "output_type": "stream",
          "name": "stdout",
          "text": [
            "<class '__main__.Car'>\n"
          ]
        }
      ]
    },
    {
      "cell_type": "code",
      "source": [
        "dir(L)"
      ],
      "metadata": {
        "colab": {
          "base_uri": "https://localhost:8080/"
        },
        "id": "v0bhB1BHh5VM",
        "outputId": "36252651-0344-4108-bd80-6622cf5e614d"
      },
      "execution_count": 20,
      "outputs": [
        {
          "output_type": "execute_result",
          "data": {
            "text/plain": [
              "['__add__',\n",
              " '__class__',\n",
              " '__contains__',\n",
              " '__delattr__',\n",
              " '__delitem__',\n",
              " '__dir__',\n",
              " '__doc__',\n",
              " '__eq__',\n",
              " '__format__',\n",
              " '__ge__',\n",
              " '__getattribute__',\n",
              " '__getitem__',\n",
              " '__gt__',\n",
              " '__hash__',\n",
              " '__iadd__',\n",
              " '__imul__',\n",
              " '__init__',\n",
              " '__init_subclass__',\n",
              " '__iter__',\n",
              " '__le__',\n",
              " '__len__',\n",
              " '__lt__',\n",
              " '__mul__',\n",
              " '__ne__',\n",
              " '__new__',\n",
              " '__reduce__',\n",
              " '__reduce_ex__',\n",
              " '__repr__',\n",
              " '__reversed__',\n",
              " '__rmul__',\n",
              " '__setattr__',\n",
              " '__setitem__',\n",
              " '__sizeof__',\n",
              " '__str__',\n",
              " '__subclasshook__',\n",
              " 'append',\n",
              " 'clear',\n",
              " 'copy',\n",
              " 'count',\n",
              " 'extend',\n",
              " 'index',\n",
              " 'insert',\n",
              " 'pop',\n",
              " 'remove',\n",
              " 'reverse',\n",
              " 'sort']"
            ]
          },
          "metadata": {},
          "execution_count": 20
        }
      ]
    },
    {
      "cell_type": "code",
      "source": [
        "dir(a)"
      ],
      "metadata": {
        "colab": {
          "base_uri": "https://localhost:8080/"
        },
        "id": "FQDzdQ_AgE_j",
        "outputId": "ea2b54f9-74cd-4614-91e6-b8ecb59d2f3e"
      },
      "execution_count": 13,
      "outputs": [
        {
          "output_type": "execute_result",
          "data": {
            "text/plain": [
              "['__class__',\n",
              " '__delattr__',\n",
              " '__dict__',\n",
              " '__dir__',\n",
              " '__doc__',\n",
              " '__eq__',\n",
              " '__format__',\n",
              " '__ge__',\n",
              " '__getattribute__',\n",
              " '__gt__',\n",
              " '__hash__',\n",
              " '__init__',\n",
              " '__init_subclass__',\n",
              " '__le__',\n",
              " '__lt__',\n",
              " '__module__',\n",
              " '__ne__',\n",
              " '__new__',\n",
              " '__reduce__',\n",
              " '__reduce_ex__',\n",
              " '__repr__',\n",
              " '__setattr__',\n",
              " '__sizeof__',\n",
              " '__str__',\n",
              " '__subclasshook__',\n",
              " '__weakref__']"
            ]
          },
          "metadata": {},
          "execution_count": 13
        }
      ]
    },
    {
      "cell_type": "code",
      "source": [
        "class Car:\n",
        "  def __init__(self,company,nop):\n",
        "    self.company=company\n",
        "    self.nop=nop\n"
      ],
      "metadata": {
        "id": "RM4r2pozgOO7"
      },
      "execution_count": 14,
      "outputs": []
    },
    {
      "cell_type": "code",
      "source": [
        "a=Car('Toyota',4)"
      ],
      "metadata": {
        "id": "6O9jwE2WhILy"
      },
      "execution_count": 16,
      "outputs": []
    },
    {
      "cell_type": "code",
      "source": [
        "a.company"
      ],
      "metadata": {
        "colab": {
          "base_uri": "https://localhost:8080/",
          "height": 35
        },
        "id": "WwzuLyGehKw2",
        "outputId": "77ad71d0-a98e-49ab-eee1-7cba68a9319c"
      },
      "execution_count": 17,
      "outputs": [
        {
          "output_type": "execute_result",
          "data": {
            "text/plain": [
              "'Toyota'"
            ],
            "application/vnd.google.colaboratory.intrinsic+json": {
              "type": "string"
            }
          },
          "metadata": {},
          "execution_count": 17
        }
      ]
    },
    {
      "cell_type": "code",
      "source": [
        "b=Car('Maruti',6)"
      ],
      "metadata": {
        "id": "291VYr1ChcIW"
      },
      "execution_count": 18,
      "outputs": []
    },
    {
      "cell_type": "code",
      "source": [
        "b.company"
      ],
      "metadata": {
        "colab": {
          "base_uri": "https://localhost:8080/",
          "height": 35
        },
        "id": "BY036lyVhiTZ",
        "outputId": "5d942ba4-1039-4dc0-a5a2-82ac00e21e9f"
      },
      "execution_count": 19,
      "outputs": [
        {
          "output_type": "execute_result",
          "data": {
            "text/plain": [
              "'Maruti'"
            ],
            "application/vnd.google.colaboratory.intrinsic+json": {
              "type": "string"
            }
          },
          "metadata": {},
          "execution_count": 19
        }
      ]
    },
    {
      "cell_type": "code",
      "source": [
        "class Atm:\n",
        "  def __init__(self):\n",
        "    self.pin=''\n",
        "    self.balance=0\n",
        "\n",
        "  def menu(self):\n",
        "      user_input=input(\"\"\" \n",
        "      Hi how can i help you ?\n",
        "      1. Press 1 to create pin \n",
        "      2. Press 2 to change pin\n",
        "      3. Press 3 to check balance\n",
        "      4. Press 4 to withdraw\n",
        "      5 .Press Anything to exit\"\"\")\n",
        "\n",
        "      if user_input ==\"1\":\n",
        "        self.create_pin()\n",
        "      elif user_input==\"2\":\n",
        "        self.change_pin()\n",
        "      elif user_input==\"3\":\n",
        "        self.check_balance()\n",
        "      elif user_input==\"4\":\n",
        "        self.withdraw()\n",
        "      else:\n",
        "        exit()\n",
        "\n",
        "\n",
        "  def create_pin(self):\n",
        "      user_pin=input(\"enter your pin\")\n",
        "      self.pin=user_pin\n",
        "\n",
        "      user_balance=int(input(\"enter the balance\"))\n",
        "      self.balance=user_balance\n",
        "\n",
        "      print('pin created successfully')\n",
        "      self.menu()\n",
        "\n",
        "  def change_pin(self):\n",
        "      old_pin=input(\"enter the old pin\")\n",
        "\n",
        "      if old_pin== self.pin:\n",
        "        new_pin=input(\"enter new pin\")\n",
        "        self.pin=new_pin\n",
        "        print(\"pin changed successfully\")\n",
        "        self.menu()\n",
        "      else:\n",
        "        print(\"Get lost\")\n",
        "        self.menu()\n",
        "    \n",
        "  def check_balance(self):\n",
        "        user_pin=input(\"enter the your pin\")\n",
        "        if user_pin==self.pin:\n",
        "          print(\"the balance is \", self.balance)\n",
        "          self.menu()\n",
        "        else:\n",
        "          print(\"Get lost\")\n",
        "\n",
        "  def withdraw(self):\n",
        "      user_pin=input(\"enter the your pin\")\n",
        "      if user_pin==self.pin:\n",
        "        #allow the person to withdraw \n",
        "        amount=int(input(\"enter the amount\" ))\n",
        "        if amount<=self.balance:\n",
        "          self.balance=self.balance-amount\n",
        "          print(\"withdrwl successful, current balance is \", self.balance)\n",
        "        else:\n",
        "          print(\"earn some more money\")\n",
        "      else:\n",
        "        print(\"Get lost\")\n",
        "\n",
        "      self.menu()\n"
      ],
      "metadata": {
        "id": "ni1P_voVhlpE"
      },
      "execution_count": 25,
      "outputs": []
    },
    {
      "cell_type": "code",
      "source": [
        "Ob1=Atm()"
      ],
      "metadata": {
        "id": "pqfMIdVjn1mV"
      },
      "execution_count": 26,
      "outputs": []
    },
    {
      "cell_type": "code",
      "source": [
        "Ob1.balance"
      ],
      "metadata": {
        "colab": {
          "base_uri": "https://localhost:8080/"
        },
        "id": "TlnG5VdBn8r3",
        "outputId": "8507142b-2ef3-41a8-fed8-e465377da1ee"
      },
      "execution_count": 27,
      "outputs": [
        {
          "output_type": "execute_result",
          "data": {
            "text/plain": [
              "0"
            ]
          },
          "metadata": {},
          "execution_count": 27
        }
      ]
    },
    {
      "cell_type": "code",
      "source": [
        "balance(Ob1)"
      ],
      "metadata": {
        "id": "Hzmz_BPkp0Gl"
      },
      "execution_count": null,
      "outputs": []
    },
    {
      "cell_type": "code",
      "source": [
        "Ob1.pin"
      ],
      "metadata": {
        "colab": {
          "base_uri": "https://localhost:8080/",
          "height": 35
        },
        "id": "CCgBV6ZnoBq7",
        "outputId": "7708336e-f1f0-49e1-a2bb-ed1ca924bbdd"
      },
      "execution_count": 28,
      "outputs": [
        {
          "output_type": "execute_result",
          "data": {
            "text/plain": [
              "''"
            ],
            "application/vnd.google.colaboratory.intrinsic+json": {
              "type": "string"
            }
          },
          "metadata": {},
          "execution_count": 28
        }
      ]
    },
    {
      "cell_type": "code",
      "source": [
        "Ob1.create_pin()"
      ],
      "metadata": {
        "colab": {
          "base_uri": "https://localhost:8080/"
        },
        "id": "W1nwNAZyoD2A",
        "outputId": "eb9944b5-3cb1-4ead-95d8-c1b91180b55b"
      },
      "execution_count": 29,
      "outputs": [
        {
          "output_type": "stream",
          "name": "stdout",
          "text": [
            "enter your pin1234\n",
            "enter the balance10000\n",
            "pin created successfully\n",
            " \n",
            "      Hi how can i help you ?\n",
            "      1. Press 1 to create pin \n",
            "      2. Press 2 to change pin\n",
            "      3. Press 3 to check balance\n",
            "      4. Press 4 to withdraw\n",
            "      5 .Press Anything to exit3\n",
            "enter the your pin1234\n",
            "the balance is  10000\n",
            " \n",
            "      Hi how can i help you ?\n",
            "      1. Press 1 to create pin \n",
            "      2. Press 2 to change pin\n",
            "      3. Press 3 to check balance\n",
            "      4. Press 4 to withdraw\n",
            "      5 .Press Anything to exit3\n",
            "enter the your pin2345\n",
            "Get lost\n"
          ]
        }
      ]
    },
    {
      "cell_type": "code",
      "source": [
        "Ob1.pin"
      ],
      "metadata": {
        "colab": {
          "base_uri": "https://localhost:8080/",
          "height": 35
        },
        "id": "bCpsUUbXoce_",
        "outputId": "483ad4e1-c027-44bd-8486-e2d3dab985ee"
      },
      "execution_count": 30,
      "outputs": [
        {
          "output_type": "execute_result",
          "data": {
            "text/plain": [
              "'1234'"
            ],
            "application/vnd.google.colaboratory.intrinsic+json": {
              "type": "string"
            }
          },
          "metadata": {},
          "execution_count": 30
        }
      ]
    },
    {
      "cell_type": "code",
      "source": [
        "Ob1.balance"
      ],
      "metadata": {
        "colab": {
          "base_uri": "https://localhost:8080/"
        },
        "id": "VrPn1jlMovFu",
        "outputId": "fb47033d-8e59-4357-a1dd-9da4b01fe675"
      },
      "execution_count": 31,
      "outputs": [
        {
          "output_type": "execute_result",
          "data": {
            "text/plain": [
              "10000"
            ]
          },
          "metadata": {},
          "execution_count": 31
        }
      ]
    },
    {
      "cell_type": "code",
      "source": [
        "ob2=Atm()"
      ],
      "metadata": {
        "id": "Jiyr0rzJoxxh"
      },
      "execution_count": 32,
      "outputs": []
    },
    {
      "cell_type": "code",
      "source": [
        "ob2.pin"
      ],
      "metadata": {
        "colab": {
          "base_uri": "https://localhost:8080/",
          "height": 35
        },
        "id": "-v_Q2uCPo1tJ",
        "outputId": "5920024f-c90f-4997-cf8d-96f67c74db20"
      },
      "execution_count": 33,
      "outputs": [
        {
          "output_type": "execute_result",
          "data": {
            "text/plain": [
              "''"
            ],
            "application/vnd.google.colaboratory.intrinsic+json": {
              "type": "string"
            }
          },
          "metadata": {},
          "execution_count": 33
        }
      ]
    },
    {
      "cell_type": "code",
      "source": [
        "Ob1.menu()"
      ],
      "metadata": {
        "colab": {
          "base_uri": "https://localhost:8080/"
        },
        "id": "eBawZpGIo3ST",
        "outputId": "0c5641b1-0f4a-4f12-c89d-0c9c2707d596"
      },
      "execution_count": 34,
      "outputs": [
        {
          "name": "stdout",
          "output_type": "stream",
          "text": [
            " \n",
            "      Hi how can i help you ?\n",
            "      1. Press 1 to create pin \n",
            "      2. Press 2 to change pin\n",
            "      3. Press 3 to check balance\n",
            "      4. Press 4 to withdraw\n",
            "      5 .Press Anything to exit4\n",
            "enter the your pin1234\n",
            "enter the amount3000\n",
            "withdrwl successful, current balance is  7000\n",
            " \n",
            "      Hi how can i help you ?\n",
            "      1. Press 1 to create pin \n",
            "      2. Press 2 to change pin\n",
            "      3. Press 3 to check balance\n",
            "      4. Press 4 to withdraw\n",
            "      5 .Press Anything to exit3\n",
            "enter the your pin1234\n",
            "the balance is  7000\n",
            " \n",
            "      Hi how can i help you ?\n",
            "      1. Press 1 to create pin \n",
            "      2. Press 2 to change pin\n",
            "      3. Press 3 to check balance\n",
            "      4. Press 4 to withdraw\n",
            "      5 .Press Anything to exit6\n"
          ]
        }
      ]
    },
    {
      "cell_type": "code",
      "source": [
        "L=[1,2,3]\n",
        "len(L)\n",
        "L.append()"
      ],
      "metadata": {
        "id": "VnC3QfX6pKUd"
      },
      "execution_count": null,
      "outputs": []
    },
    {
      "cell_type": "code",
      "source": [
        "3/4"
      ],
      "metadata": {
        "colab": {
          "base_uri": "https://localhost:8080/"
        },
        "id": "twYPTLzGqEvx",
        "outputId": "d1701cbf-b00a-4c9c-f703-6c6d675ac566"
      },
      "execution_count": 1,
      "outputs": [
        {
          "output_type": "execute_result",
          "data": {
            "text/plain": [
              "0.75"
            ]
          },
          "metadata": {},
          "execution_count": 1
        }
      ]
    },
    {
      "cell_type": "code",
      "source": [
        "1/2"
      ],
      "metadata": {
        "colab": {
          "base_uri": "https://localhost:8080/"
        },
        "id": "gKVhCXhCqJGU",
        "outputId": "2e44810b-365f-4a07-d1b9-734095259cd3"
      },
      "execution_count": 2,
      "outputs": [
        {
          "output_type": "execute_result",
          "data": {
            "text/plain": [
              "0.5"
            ]
          },
          "metadata": {},
          "execution_count": 2
        }
      ]
    },
    {
      "cell_type": "code",
      "source": [
        "class Fraction:\n",
        "  # constructor\n",
        "  def __init__(self,x,y):\n",
        "    self.num=x\n",
        "    self.deno=y\n",
        "  \n",
        "  def __str__(self):\n",
        "    return '{}/{}'.format(self.num,self.deno)\n",
        "\n",
        "  def __add__(self,other):\n",
        "    new_num= self.num*other.deno + self.deno*other.num\n",
        "    new_deno=self.deno*other.deno\n",
        "\n",
        "    return '{}/{}'.format(new_num,new_deno)\n"
      ],
      "metadata": {
        "id": "S0eZqxMVqGSD"
      },
      "execution_count": 10,
      "outputs": []
    },
    {
      "cell_type": "code",
      "source": [
        "a=Fraction(3,4)\n",
        "print(a)"
      ],
      "metadata": {
        "colab": {
          "base_uri": "https://localhost:8080/"
        },
        "id": "Tp8vRnkOq_Zm",
        "outputId": "cf6ffd96-af32-4b84-9bed-05518dc9f075"
      },
      "execution_count": 4,
      "outputs": [
        {
          "output_type": "stream",
          "name": "stdout",
          "text": [
            "3/4\n"
          ]
        }
      ]
    },
    {
      "cell_type": "code",
      "source": [
        "b=Fraction(1,2)\n",
        "print(b)"
      ],
      "metadata": {
        "colab": {
          "base_uri": "https://localhost:8080/"
        },
        "id": "inVKH8eRrGGW",
        "outputId": "d2abd55a-9d49-46ce-e81b-d5eaedeae97a"
      },
      "execution_count": 7,
      "outputs": [
        {
          "output_type": "stream",
          "name": "stdout",
          "text": [
            "1/2\n"
          ]
        }
      ]
    },
    {
      "cell_type": "code",
      "source": [
        "a+b"
      ],
      "metadata": {
        "colab": {
          "base_uri": "https://localhost:8080/",
          "height": 166
        },
        "id": "bOVEA9RDrMnd",
        "outputId": "a9d04400-23b7-42fb-a2fa-a89ddfa29bfd"
      },
      "execution_count": 12,
      "outputs": [
        {
          "output_type": "error",
          "ename": "TypeError",
          "evalue": "ignored",
          "traceback": [
            "\u001b[0;31m---------------------------------------------------------------------------\u001b[0m",
            "\u001b[0;31mTypeError\u001b[0m                                 Traceback (most recent call last)",
            "\u001b[0;32m<ipython-input-12-ca730b97bf8a>\u001b[0m in \u001b[0;36m<module>\u001b[0;34m\u001b[0m\n\u001b[0;32m----> 1\u001b[0;31m \u001b[0ma\u001b[0m\u001b[0;34m+\u001b[0m\u001b[0mb\u001b[0m\u001b[0;34m\u001b[0m\u001b[0;34m\u001b[0m\u001b[0m\n\u001b[0m",
            "\u001b[0;31mTypeError\u001b[0m: unsupported operand type(s) for +: 'Fraction' and 'Fraction'"
          ]
        }
      ]
    },
    {
      "cell_type": "code",
      "source": [
        "#private public \n",
        "class Person:\n",
        "  def __init__(self,name_input,country_input):\n",
        "    self._name=name_input\n",
        "    self.country=country_input\n",
        "\n",
        "  def greet(self):\n",
        "    if self.country==\"india\":\n",
        "      print(\"Namaste\", self._name)\n",
        "    else:\n",
        "      print(\"Hello\",self._name)"
      ],
      "metadata": {
        "id": "xRJJueFJsdro"
      },
      "execution_count": 20,
      "outputs": []
    },
    {
      "cell_type": "code",
      "source": [
        "p=Person(\"Somesh\",\"india\")"
      ],
      "metadata": {
        "id": "dSdo3jwUue25"
      },
      "execution_count": 23,
      "outputs": []
    },
    {
      "cell_type": "code",
      "source": [
        "p.name"
      ],
      "metadata": {
        "colab": {
          "base_uri": "https://localhost:8080/",
          "height": 166
        },
        "id": "6fxpvxvrulSV",
        "outputId": "7defae6f-5d89-4d41-e6a1-e44144c66dce"
      },
      "execution_count": 24,
      "outputs": [
        {
          "output_type": "error",
          "ename": "AttributeError",
          "evalue": "ignored",
          "traceback": [
            "\u001b[0;31m---------------------------------------------------------------------------\u001b[0m",
            "\u001b[0;31mAttributeError\u001b[0m                            Traceback (most recent call last)",
            "\u001b[0;32m<ipython-input-24-a2041b62649a>\u001b[0m in \u001b[0;36m<module>\u001b[0;34m\u001b[0m\n\u001b[0;32m----> 1\u001b[0;31m \u001b[0mp\u001b[0m\u001b[0;34m.\u001b[0m\u001b[0mname\u001b[0m\u001b[0;34m\u001b[0m\u001b[0;34m\u001b[0m\u001b[0m\n\u001b[0m",
            "\u001b[0;31mAttributeError\u001b[0m: 'Person' object has no attribute 'name'"
          ]
        }
      ]
    },
    {
      "cell_type": "code",
      "source": [
        "p.greet()"
      ],
      "metadata": {
        "colab": {
          "base_uri": "https://localhost:8080/"
        },
        "id": "xiE0bFuIumqm",
        "outputId": "dc6c832e-f988-41eb-d074-657935b84271"
      },
      "execution_count": 25,
      "outputs": [
        {
          "output_type": "stream",
          "name": "stdout",
          "text": [
            "Namaste Somesh\n"
          ]
        }
      ]
    },
    {
      "cell_type": "code",
      "source": [
        "p.gender=\"male\""
      ],
      "metadata": {
        "id": "4yWaporfu1M3"
      },
      "execution_count": 26,
      "outputs": []
    },
    {
      "cell_type": "code",
      "source": [
        "p.gender"
      ],
      "metadata": {
        "colab": {
          "base_uri": "https://localhost:8080/",
          "height": 35
        },
        "id": "aFXLisdnvVEY",
        "outputId": "f035a2d7-d734-4668-b187-f46dff280182"
      },
      "execution_count": 27,
      "outputs": [
        {
          "output_type": "execute_result",
          "data": {
            "text/plain": [
              "'male'"
            ],
            "application/vnd.google.colaboratory.intrinsic+json": {
              "type": "string"
            }
          },
          "metadata": {},
          "execution_count": 27
        }
      ]
    },
    {
      "cell_type": "code",
      "source": [
        "#Static attributes or static variables\n",
        "\n",
        "#class level\n",
        "#class Name\n",
        "#object independent \n",
        "#the value stored in the static variables is shared among all the instances\n"
      ],
      "metadata": {
        "id": "uiHdKi21vlGN"
      },
      "execution_count": 28,
      "outputs": []
    },
    {
      "cell_type": "code",
      "source": [
        "class Atm:\n",
        "  __counter=1\n",
        "  \n",
        "  def __init__(self):\n",
        "    self.pin=''\n",
        "    self.balance=0\n",
        "    self.cid=Atm.__counter\n",
        "    Atm.__counter=Atm.__counter+1\n",
        "\n",
        "  def get_counter():\n",
        "    return Atm.__counter\n",
        "\n",
        "  def menu(self):\n",
        "      user_input=input(\"\"\" \n",
        "      Hi how can i help you ?\n",
        "      1. Press 1 to create pin \n",
        "      2. Press 2 to change pin\n",
        "      3. Press 3 to check balance\n",
        "      4. Press 4 to withdraw\n",
        "      5 .Press Anything to exit\"\"\")\n",
        "\n",
        "      if user_input ==\"1\":\n",
        "        self.create_pin()\n",
        "      elif user_input==\"2\":\n",
        "        self.change_pin()\n",
        "      elif user_input==\"3\":\n",
        "        self.check_balance()\n",
        "      elif user_input==\"4\":\n",
        "        self.withdraw()\n",
        "      else:\n",
        "        exit()\n",
        "\n",
        "\n",
        "  def create_pin(self):\n",
        "      user_pin=input(\"enter your pin\")\n",
        "      self.pin=user_pin\n",
        "\n",
        "      user_balance=int(input(\"enter the balance\"))\n",
        "      self.balance=user_balance\n",
        "\n",
        "      print('pin created successfully')\n",
        "      self.menu()\n",
        "\n",
        "  def change_pin(self):\n",
        "      old_pin=input(\"enter the old pin\")\n",
        "\n",
        "      if old_pin== self.pin:\n",
        "        new_pin=input(\"enter new pin\")\n",
        "        self.pin=new_pin\n",
        "        print(\"pin changed successfully\")\n",
        "        self.menu()\n",
        "      else:\n",
        "        print(\"Get lost\")\n",
        "        self.menu()\n",
        "    \n",
        "  def check_balance(self):\n",
        "        user_pin=input(\"enter the your pin\")\n",
        "        if user_pin==self.pin:\n",
        "          print(\"the balance is \", self.balance)\n",
        "          self.menu()\n",
        "        else:\n",
        "          print(\"Get lost\")\n",
        "\n",
        "  def withdraw(self):\n",
        "      user_pin=input(\"enter the your pin\")\n",
        "      if user_pin==self.pin:\n",
        "        #allow the person to withdraw \n",
        "        amount=int(input(\"enter the amount\" ))\n",
        "        if amount<=self.balance:\n",
        "          self.balance=self.balance-amount\n",
        "          print(\"withdrwl successful, current balance is \", self.balance)\n",
        "        else:\n",
        "          print(\"earn some more money\")\n",
        "      else:\n",
        "        print(\"Get lost\")\n",
        "\n",
        "      self.menu()\n"
      ],
      "metadata": {
        "id": "M6jRlf9dvY8R"
      },
      "execution_count": 29,
      "outputs": []
    },
    {
      "cell_type": "code",
      "source": [
        "c1=Atm()"
      ],
      "metadata": {
        "id": "HliylFO0zb-X"
      },
      "execution_count": 30,
      "outputs": []
    },
    {
      "cell_type": "code",
      "source": [
        "Atm.get_counter()"
      ],
      "metadata": {
        "colab": {
          "base_uri": "https://localhost:8080/"
        },
        "id": "x5IMBbGxzeqB",
        "outputId": "e58a4b22-5865-4cc9-e331-243abd9769ea"
      },
      "execution_count": 31,
      "outputs": [
        {
          "output_type": "execute_result",
          "data": {
            "text/plain": [
              "2"
            ]
          },
          "metadata": {},
          "execution_count": 31
        }
      ]
    },
    {
      "cell_type": "code",
      "source": [
        "c2=Atm()"
      ],
      "metadata": {
        "id": "FVoS2OIxzi0Z"
      },
      "execution_count": 32,
      "outputs": []
    },
    {
      "cell_type": "code",
      "source": [
        "c2.cid"
      ],
      "metadata": {
        "colab": {
          "base_uri": "https://localhost:8080/"
        },
        "id": "gv-bAfbEzlz2",
        "outputId": "ca8bf620-f462-472c-ed7f-f1523a5734ce"
      },
      "execution_count": 33,
      "outputs": [
        {
          "output_type": "execute_result",
          "data": {
            "text/plain": [
              "2"
            ]
          },
          "metadata": {},
          "execution_count": 33
        }
      ]
    },
    {
      "cell_type": "code",
      "source": [
        "class Person:\n",
        "  def __init__(self,name_input,country_input):\n",
        "    self.name=name_input\n",
        "    self.country=country_input\n",
        "\n",
        "  def greet(self):\n",
        "    if self.country==\"india\":\n",
        "      print(\"Namaste\", self.name)\n",
        "    else:\n",
        "      print(\"Hello\",self.name)"
      ],
      "metadata": {
        "id": "piRKBJeMzrcV"
      },
      "execution_count": 34,
      "outputs": []
    },
    {
      "cell_type": "code",
      "source": [
        "p1= Person(\"Somesh\",\"india\")\n",
        "p2=Person(\"Aniket\",\"germany\")\n",
        "p3=Person(\"Srujana\",\"italy\")"
      ],
      "metadata": {
        "id": "FuH30I9e0RHf"
      },
      "execution_count": 35,
      "outputs": []
    },
    {
      "cell_type": "code",
      "source": [
        "L=[p1,p2,p3]"
      ],
      "metadata": {
        "id": "Orl6Owul0fsn"
      },
      "execution_count": 36,
      "outputs": []
    },
    {
      "cell_type": "code",
      "source": [
        "for i in L:\n",
        "  print(i.name, i.country)"
      ],
      "metadata": {
        "colab": {
          "base_uri": "https://localhost:8080/"
        },
        "id": "i-G8cwWZ0k8l",
        "outputId": "2fb79ea1-1ca7-494c-e8a2-89dcf41e4219"
      },
      "execution_count": 37,
      "outputs": [
        {
          "output_type": "stream",
          "name": "stdout",
          "text": [
            "Somesh india\n",
            "Aniket germany\n",
            "Srujana italy\n"
          ]
        }
      ]
    },
    {
      "cell_type": "code",
      "source": [
        "d={'p1':p1,\n",
        "   'p2':p2,\n",
        "   'p3':p3}"
      ],
      "metadata": {
        "id": "QSaP0fPx0syi"
      },
      "execution_count": 38,
      "outputs": []
    },
    {
      "cell_type": "code",
      "source": [
        "for i in d:\n",
        "  print(d[i].country)"
      ],
      "metadata": {
        "colab": {
          "base_uri": "https://localhost:8080/"
        },
        "id": "q344J4LW09eg",
        "outputId": "ab9d7a30-481f-4119-f740-0266462c3a15"
      },
      "execution_count": 39,
      "outputs": [
        {
          "output_type": "stream",
          "name": "stdout",
          "text": [
            "india\n",
            "germany\n",
            "italy\n"
          ]
        }
      ]
    },
    {
      "cell_type": "code",
      "source": [
        "# Refrence variables \n",
        "# Reference variables holds objects\n",
        "#We can create objects without reference variable as well\n",
        "#An object can have multiple reference variables\n",
        "#Assigning a new reference variable to an existing object does not create a new object"
      ],
      "metadata": {
        "id": "fkNogiCd1ELs"
      },
      "execution_count": 40,
      "outputs": []
    },
    {
      "cell_type": "code",
      "source": [
        "class person:\n",
        "  def __init__(self):\n",
        "    self.name=\"Somesh\"\n",
        "    self.gender=\"Male\""
      ],
      "metadata": {
        "id": "6svui92d1vMl"
      },
      "execution_count": 41,
      "outputs": []
    },
    {
      "cell_type": "code",
      "source": [
        "p=person()"
      ],
      "metadata": {
        "id": "PGoo5ZHk19bA"
      },
      "execution_count": 42,
      "outputs": []
    },
    {
      "cell_type": "code",
      "source": [
        "q=p"
      ],
      "metadata": {
        "id": "ia9E5SAy2ADO"
      },
      "execution_count": 43,
      "outputs": []
    },
    {
      "cell_type": "code",
      "source": [
        "id(p)"
      ],
      "metadata": {
        "colab": {
          "base_uri": "https://localhost:8080/"
        },
        "id": "1KU2ZlAG2C97",
        "outputId": "f5a2c7c2-9358-48fd-e9d1-637c21f240c7"
      },
      "execution_count": 44,
      "outputs": [
        {
          "output_type": "execute_result",
          "data": {
            "text/plain": [
              "140490966566128"
            ]
          },
          "metadata": {},
          "execution_count": 44
        }
      ]
    },
    {
      "cell_type": "code",
      "source": [
        "id(q)"
      ],
      "metadata": {
        "colab": {
          "base_uri": "https://localhost:8080/"
        },
        "id": "nFbRoRba2Fwp",
        "outputId": "2fa8795f-ee20-40eb-e9c4-547aa54ed0ed"
      },
      "execution_count": 45,
      "outputs": [
        {
          "output_type": "execute_result",
          "data": {
            "text/plain": [
              "140490966566128"
            ]
          },
          "metadata": {},
          "execution_count": 45
        }
      ]
    },
    {
      "cell_type": "code",
      "source": [
        "p.name"
      ],
      "metadata": {
        "colab": {
          "base_uri": "https://localhost:8080/",
          "height": 35
        },
        "id": "ZLLfiFEJ2Hlz",
        "outputId": "f4f13054-00cd-46df-c2bd-1a345332da5d"
      },
      "execution_count": 46,
      "outputs": [
        {
          "output_type": "execute_result",
          "data": {
            "text/plain": [
              "'Somesh'"
            ],
            "application/vnd.google.colaboratory.intrinsic+json": {
              "type": "string"
            }
          },
          "metadata": {},
          "execution_count": 46
        }
      ]
    },
    {
      "cell_type": "code",
      "source": [
        "q.name=\"Aniket\""
      ],
      "metadata": {
        "id": "doPzNMwu2Vte"
      },
      "execution_count": 48,
      "outputs": []
    },
    {
      "cell_type": "code",
      "source": [
        "p.name"
      ],
      "metadata": {
        "colab": {
          "base_uri": "https://localhost:8080/",
          "height": 35
        },
        "id": "pvAbqR1r2Ykt",
        "outputId": "f2138289-d9bf-4b09-c773-406a8b6c92f8"
      },
      "execution_count": 49,
      "outputs": [
        {
          "output_type": "execute_result",
          "data": {
            "text/plain": [
              "'Aniket'"
            ],
            "application/vnd.google.colaboratory.intrinsic+json": {
              "type": "string"
            }
          },
          "metadata": {},
          "execution_count": 49
        }
      ]
    },
    {
      "cell_type": "markdown",
      "source": [
        "###`Q1:`Count number of instances of a class created in Python?\n",
        "\n",
        "Example:\n",
        "Say `Car` is any class.\n",
        "```\n",
        "maruti = Car()\n",
        "bmw = Car()\n",
        "honda = Car()\n",
        "``` \n",
        "So after creating above instances. We want to count how many instances are created of Car class.\n",
        "\n",
        "For above example `no of instances = 3`.\n",
        "\n",
        "Write a program for above problem.\n"
      ],
      "metadata": {
        "id": "Hd2-FTy13EaN"
      }
    },
    {
      "cell_type": "code",
      "source": [
        "class Car:\n",
        "  count=0\n",
        "  def __init__(self):\n",
        "    Car.count+=1\n",
        "\n",
        "\n",
        "maruti = Car()\n",
        "bmw = Car()\n",
        "honda = Car()\n",
        "\n",
        "print(\"no of instances =\",Car.count)"
      ],
      "metadata": {
        "colab": {
          "base_uri": "https://localhost:8080/"
        },
        "id": "WMcAxnnc4w3l",
        "outputId": "9fd3dfb5-135d-4a36-f49d-8352e41054f2"
      },
      "execution_count": 50,
      "outputs": [
        {
          "output_type": "stream",
          "name": "stdout",
          "text": [
            "no of instances = 3\n"
          ]
        }
      ]
    },
    {
      "cell_type": "code",
      "source": [
        "class Address:\n",
        "  def __init__(self,city,pin,state):\n",
        "    self.city=city\n",
        "    self.pin=pin\n",
        "    self.state=state\n",
        "\n",
        "  def edit_address(self,new_city,new_pin,new_state):\n",
        "    self.city=new_city\n",
        "    self.pin=new_pin\n",
        "    self.state=new_state\n"
      ],
      "metadata": {
        "id": "B9v3tZzG5d_6"
      },
      "execution_count": 51,
      "outputs": []
    },
    {
      "cell_type": "code",
      "source": [
        "class customer:\n",
        "  def __init__(self,name,gender,address):\n",
        "    self.name=name\n",
        "    self.gender=gender\n",
        "    self.address=address\n",
        "\n",
        "  def print_address(self):\n",
        "    print(self.address.city,self.address.pin,self.address.state)\n",
        "\n",
        "  def edit_profile(self,new_name,new_city,new_pin,new_state):\n",
        "    self.name=new_name\n",
        "    self.address.edit_address(new_city,new_pin,new_state)"
      ],
      "metadata": {
        "id": "fYgLnVAC6YHo"
      },
      "execution_count": 53,
      "outputs": []
    },
    {
      "cell_type": "code",
      "source": [
        "add1=Address('Mumbai',400614,'Maharashtra')\n",
        "cust=customer(\"Somesh\",\"Male\",add1)"
      ],
      "metadata": {
        "id": "RPhxS22Y7en2"
      },
      "execution_count": 55,
      "outputs": []
    },
    {
      "cell_type": "code",
      "source": [
        "cust.print_address()"
      ],
      "metadata": {
        "colab": {
          "base_uri": "https://localhost:8080/"
        },
        "id": "ts2_6jcT8A1Z",
        "outputId": "484ed5cb-58b6-419e-e666-dfba8d0fc21e"
      },
      "execution_count": 56,
      "outputs": [
        {
          "output_type": "stream",
          "name": "stdout",
          "text": [
            "Mumbai 400614 Maharashtra\n"
          ]
        }
      ]
    },
    {
      "cell_type": "code",
      "source": [
        "cust.edit_profile(\"Somesh\",\"gurgaon\",122011,\"Haryana\")"
      ],
      "metadata": {
        "id": "tjvuQrse8Ha4"
      },
      "execution_count": 57,
      "outputs": []
    },
    {
      "cell_type": "code",
      "source": [
        "cust.print_address()"
      ],
      "metadata": {
        "colab": {
          "base_uri": "https://localhost:8080/"
        },
        "id": "R6maoumR8UAF",
        "outputId": "27ecb6d7-ac45-402a-a302-908b41e71b48"
      },
      "execution_count": 58,
      "outputs": [
        {
          "output_type": "stream",
          "name": "stdout",
          "text": [
            "gurgaon 122011 Haryana\n"
          ]
        }
      ]
    },
    {
      "cell_type": "code",
      "source": [
        "#Aggregation - 2 classses some kind relationship"
      ],
      "metadata": {
        "id": "0-_oIa3o8W1u"
      },
      "execution_count": null,
      "outputs": []
    }
  ]
}